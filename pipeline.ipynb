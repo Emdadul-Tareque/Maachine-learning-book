{
 "cells": [
  {
   "cell_type": "markdown",
   "metadata": {},
   "source": [
    "# অধ্যায় ১০ঃ মেশিন লার্নিং ওয়ার্কফ্লো (Pipeline)\n",
    "\n",
    "মেশিন লার্নিং এ কিছু স্ট্যান্ডার্ড ওয়ারফ্লো রয়েছে (একটা নির্দিষ্ট ধাপের কাজ  করার পর পরবর্তি ধাপের কাজ) যা আমরা অটোমেট করতে পারি। মেশিন লার্নিং পাইপলাইনের মাধ্যমে আমরা এই কাজ করতে পারি। এই অধ্যায়ে আমরা scikit learn মাধ্যমে পাইপ লাইন ব্যবহার করে মেশিন লার্নিং ওয়ার্কফ্লো অটোমেট করা শিখব। \n",
    "\n",
    "এই অধ্যায়ে আমরা যা যা শিখব -- \n",
    "\n",
    "১) কিভাবে পাইপলাইন ব্যবহার করে ডেটা লিকেজ কমানো যায়। \n",
    "\n",
    "২) ডেটা প্রস্তুতি এবং মডেলিং পাইপলাইন কীভাবে তৈরি করবেন।\n",
    "\n",
    "৩) কীভাবে ফিচার এক্সট্রাকশন এবং মডেলিং পাইপলাইন নির্মাণ করবেন।\n"
   ]
  },
  {
   "cell_type": "markdown",
   "metadata": {},
   "source": [
    "## ১০.১ পাইপ লাইন ব্যবহার করে ডেটা লিকেজ কমানো \n",
    "\n",
    "মেশিনকে শেখানোর জন্য আমরা ডেটাসেটকে দুই ভাগে ভাগ করি। একভাগ ডেটা সেট দিয়ে ট্রেইন করানো হয় আরেকভাগ দিয়ে টেস্ট কোরানো হয়। ডেটাসেটকে দুই ভাগে ভাগ করার প্রধান কারন হচ্ছে মেশিন না দেখা ডেটার উপর কেমন কাজ করছে তা জানার জন্য। কিন্তু অনেক সময় দেখা যায় মেশিন টেস্ট সেটে ভালো পারফর্মেন্স করলেও রিয়েল ওয়াল্ড ডেটার ক্ষেত্রে অর্থাৎ অন্য না দেখা ডেটার ক্ষেত্রে মেশিন ভালো কাজ করছে না। টেস্ট ডেটা সেটের পারফর্মেন্স ও রিয়েল ওয়ার্ল্ড ডেটাসেটের পারফর্মেন্সের মধ্যে পার্থক্য থাকে। এর কারন হচ্ছে ডেটা লিকেজ। \n",
    "\n",
    "মেশিন লার্নিং পাইপলাইন ব্যবহার করে এই ডেটা লিকেজ কমানো যায়। scikit learn এর পাইপলাইন ব্যবহার করে মেশিন লার্নিং ওয়ার্কফ্লোকে অটোমেট করা যায় যার মাধ্যমে ডেটা লিকেজ কমানো সম্ভব। \n",
    "\n",
    "## ১০.২ ডেটা প্রিপারেশন এবং মডেলিং পাইপ লাইন \n",
    "\n",
    "ডেটা লিকেজ হওয়ার একটা সম্ভাবনা থাকে যখন আমরা ডেটাসেটকে প্রিপ্রসেস করি। যখন আমরা পুরো ডেটা সেটকে প্রিপ্রসেস করি তারপর তাকে ট্রেনিং টেস্ট ডেটাসেটে স্প্লিট করি তখন ডেটা লিকেজ হওয়ার সম্ভাবনা থাকে কেননা তখন ডেটাসেট দ্বয়ের মধ্যে ডেটা শেয়ার হয়ে যায়। তাই প্রথমে ডেটাসেট ট্রেইং টেস্ট স্প্লিট করে ডেটাকে প্রিপ্রসেস করতে হয়। \n",
    "\n",
    "এছাড়া pipeline ব্যবহার করে ডেটা লিকেজ কমানো যায়। আমরা এখানের দুইটি ধাপে পাইপলাইন ডিফাইন করব। \n",
    "\n",
    "1. Standardize the data.\n",
    "\n",
    "2. Learn a Linear Discriminant Analysis model.\n"
   ]
  },
  {
   "cell_type": "code",
   "execution_count": 3,
   "metadata": {},
   "outputs": [
    {
     "name": "stdout",
     "output_type": "stream",
     "text": [
      "[('standardize', StandardScaler(copy=True, with_mean=True, with_std=True)), ('lda', LinearDiscriminantAnalysis(n_components=None, priors=None, shrinkage=None,\n",
      "                           solver='svd', store_covariance=False, tol=0.0001))]\n",
      "0.7669685577580315\n"
     ]
    }
   ],
   "source": [
    "import pandas as pd\n",
    "from sklearn.model_selection import KFold\n",
    "from sklearn.model_selection import cross_val_score\n",
    "from sklearn.preprocessing import StandardScaler\n",
    "from sklearn.pipeline import Pipeline\n",
    "from sklearn.discriminant_analysis import LinearDiscriminantAnalysis\n",
    "\n",
    "#load dataset\n",
    "dataframe = pd.read_csv('diabetes.csv')\n",
    "array = dataframe.values\n",
    "X = array[:,0:8]\n",
    "Y = array[:,8]\n",
    "# create pipeline\n",
    "estimators = []\n",
    "estimators.append(('standardize', StandardScaler()))\n",
    "estimators.append(('lda', LinearDiscriminantAnalysis()))\n",
    "model = Pipeline(estimators)\n",
    "# evaluate pipeline\n",
    "kfold = KFold(n_splits=10, random_state=7, shuffle=True)\n",
    "results = cross_val_score(model, X, Y, cv=kfold)\n",
    "print(results.mean())"
   ]
  },
  {
   "cell_type": "markdown",
   "metadata": {},
   "source": [
    "## ১০.৩   ফিচার এক্সট্রাকশন এবং মডেলিং পাইপলাইন \n",
    "\n",
    "ডেটা লিকেজ ফিচার এক্সট্রাকশনেও হতে পারে। scikit learn এর pipeline ব্যবহার করে ফিচার এক্সট্রাকশনে ডেটা লিকেজ কমানো যায়। \n",
    "\n",
    "আমারে এখানে ৪টি ধাপে পাইপলাইন ডিফাইন করব। \n",
    "\n",
    "1. Feature Extraction with Principal Component Analysis (3 features).\n",
    "2. Feature Extraction with Statistical Selection (6 features).\n",
    "3. Feature Union.\n",
    "4. Learn a Logistic Regression Model."
   ]
  },
  {
   "cell_type": "code",
   "execution_count": 11,
   "metadata": {},
   "outputs": [
    {
     "name": "stderr",
     "output_type": "stream",
     "text": [
      "/Users/user/opt/anaconda3/lib/python3.7/site-packages/sklearn/linear_model/_logistic.py:940: ConvergenceWarning: lbfgs failed to converge (status=1):\n",
      "STOP: TOTAL NO. of ITERATIONS REACHED LIMIT.\n",
      "\n",
      "Increase the number of iterations (max_iter) or scale the data as shown in:\n",
      "    https://scikit-learn.org/stable/modules/preprocessing.html\n",
      "Please also refer to the documentation for alternative solver options:\n",
      "    https://scikit-learn.org/stable/modules/linear_model.html#logistic-regression\n",
      "  extra_warning_msg=_LOGISTIC_SOLVER_CONVERGENCE_MSG)\n",
      "/Users/user/opt/anaconda3/lib/python3.7/site-packages/sklearn/linear_model/_logistic.py:940: ConvergenceWarning: lbfgs failed to converge (status=1):\n",
      "STOP: TOTAL NO. of ITERATIONS REACHED LIMIT.\n",
      "\n",
      "Increase the number of iterations (max_iter) or scale the data as shown in:\n",
      "    https://scikit-learn.org/stable/modules/preprocessing.html\n",
      "Please also refer to the documentation for alternative solver options:\n",
      "    https://scikit-learn.org/stable/modules/linear_model.html#logistic-regression\n",
      "  extra_warning_msg=_LOGISTIC_SOLVER_CONVERGENCE_MSG)\n",
      "/Users/user/opt/anaconda3/lib/python3.7/site-packages/sklearn/linear_model/_logistic.py:940: ConvergenceWarning: lbfgs failed to converge (status=1):\n",
      "STOP: TOTAL NO. of ITERATIONS REACHED LIMIT.\n",
      "\n",
      "Increase the number of iterations (max_iter) or scale the data as shown in:\n",
      "    https://scikit-learn.org/stable/modules/preprocessing.html\n",
      "Please also refer to the documentation for alternative solver options:\n",
      "    https://scikit-learn.org/stable/modules/linear_model.html#logistic-regression\n",
      "  extra_warning_msg=_LOGISTIC_SOLVER_CONVERGENCE_MSG)\n",
      "/Users/user/opt/anaconda3/lib/python3.7/site-packages/sklearn/linear_model/_logistic.py:940: ConvergenceWarning: lbfgs failed to converge (status=1):\n",
      "STOP: TOTAL NO. of ITERATIONS REACHED LIMIT.\n",
      "\n",
      "Increase the number of iterations (max_iter) or scale the data as shown in:\n",
      "    https://scikit-learn.org/stable/modules/preprocessing.html\n",
      "Please also refer to the documentation for alternative solver options:\n",
      "    https://scikit-learn.org/stable/modules/linear_model.html#logistic-regression\n",
      "  extra_warning_msg=_LOGISTIC_SOLVER_CONVERGENCE_MSG)\n",
      "/Users/user/opt/anaconda3/lib/python3.7/site-packages/sklearn/linear_model/_logistic.py:940: ConvergenceWarning: lbfgs failed to converge (status=1):\n",
      "STOP: TOTAL NO. of ITERATIONS REACHED LIMIT.\n",
      "\n",
      "Increase the number of iterations (max_iter) or scale the data as shown in:\n",
      "    https://scikit-learn.org/stable/modules/preprocessing.html\n",
      "Please also refer to the documentation for alternative solver options:\n",
      "    https://scikit-learn.org/stable/modules/linear_model.html#logistic-regression\n",
      "  extra_warning_msg=_LOGISTIC_SOLVER_CONVERGENCE_MSG)\n",
      "/Users/user/opt/anaconda3/lib/python3.7/site-packages/sklearn/linear_model/_logistic.py:940: ConvergenceWarning: lbfgs failed to converge (status=1):\n",
      "STOP: TOTAL NO. of ITERATIONS REACHED LIMIT.\n",
      "\n",
      "Increase the number of iterations (max_iter) or scale the data as shown in:\n",
      "    https://scikit-learn.org/stable/modules/preprocessing.html\n",
      "Please also refer to the documentation for alternative solver options:\n",
      "    https://scikit-learn.org/stable/modules/linear_model.html#logistic-regression\n",
      "  extra_warning_msg=_LOGISTIC_SOLVER_CONVERGENCE_MSG)\n",
      "/Users/user/opt/anaconda3/lib/python3.7/site-packages/sklearn/linear_model/_logistic.py:940: ConvergenceWarning: lbfgs failed to converge (status=1):\n",
      "STOP: TOTAL NO. of ITERATIONS REACHED LIMIT.\n",
      "\n",
      "Increase the number of iterations (max_iter) or scale the data as shown in:\n",
      "    https://scikit-learn.org/stable/modules/preprocessing.html\n",
      "Please also refer to the documentation for alternative solver options:\n",
      "    https://scikit-learn.org/stable/modules/linear_model.html#logistic-regression\n",
      "  extra_warning_msg=_LOGISTIC_SOLVER_CONVERGENCE_MSG)\n",
      "/Users/user/opt/anaconda3/lib/python3.7/site-packages/sklearn/linear_model/_logistic.py:940: ConvergenceWarning: lbfgs failed to converge (status=1):\n",
      "STOP: TOTAL NO. of ITERATIONS REACHED LIMIT.\n",
      "\n",
      "Increase the number of iterations (max_iter) or scale the data as shown in:\n",
      "    https://scikit-learn.org/stable/modules/preprocessing.html\n",
      "Please also refer to the documentation for alternative solver options:\n",
      "    https://scikit-learn.org/stable/modules/linear_model.html#logistic-regression\n",
      "  extra_warning_msg=_LOGISTIC_SOLVER_CONVERGENCE_MSG)\n"
     ]
    },
    {
     "name": "stdout",
     "output_type": "stream",
     "text": [
      "0.769565960355434\n"
     ]
    },
    {
     "name": "stderr",
     "output_type": "stream",
     "text": [
      "/Users/user/opt/anaconda3/lib/python3.7/site-packages/sklearn/linear_model/_logistic.py:940: ConvergenceWarning: lbfgs failed to converge (status=1):\n",
      "STOP: TOTAL NO. of ITERATIONS REACHED LIMIT.\n",
      "\n",
      "Increase the number of iterations (max_iter) or scale the data as shown in:\n",
      "    https://scikit-learn.org/stable/modules/preprocessing.html\n",
      "Please also refer to the documentation for alternative solver options:\n",
      "    https://scikit-learn.org/stable/modules/linear_model.html#logistic-regression\n",
      "  extra_warning_msg=_LOGISTIC_SOLVER_CONVERGENCE_MSG)\n",
      "/Users/user/opt/anaconda3/lib/python3.7/site-packages/sklearn/linear_model/_logistic.py:940: ConvergenceWarning: lbfgs failed to converge (status=1):\n",
      "STOP: TOTAL NO. of ITERATIONS REACHED LIMIT.\n",
      "\n",
      "Increase the number of iterations (max_iter) or scale the data as shown in:\n",
      "    https://scikit-learn.org/stable/modules/preprocessing.html\n",
      "Please also refer to the documentation for alternative solver options:\n",
      "    https://scikit-learn.org/stable/modules/linear_model.html#logistic-regression\n",
      "  extra_warning_msg=_LOGISTIC_SOLVER_CONVERGENCE_MSG)\n"
     ]
    }
   ],
   "source": [
    "from sklearn.model_selection import KFold\n",
    "from sklearn.model_selection import cross_val_score\n",
    "from sklearn.pipeline import Pipeline\n",
    "from sklearn.pipeline import FeatureUnion\n",
    "from sklearn.linear_model import LogisticRegression\n",
    "from sklearn.decomposition import PCA\n",
    "from sklearn.feature_selection import SelectKBest\n",
    "\n",
    "#load dataset\n",
    "dataframe = pd.read_csv('diabetes.csv')\n",
    "array = dataframe.values\n",
    "X = array[:,0:8]\n",
    "Y = array[:,8]\n",
    "\n",
    "# create feature union\n",
    "features = []\n",
    "features.append(('pca', PCA(n_components=3)))\n",
    "features.append(('select_best', SelectKBest(k=6)))\n",
    "feature_union = FeatureUnion(features)\n",
    "\n",
    "# create pipeline\n",
    "estimators = []\n",
    "estimators.append(('feature_union', feature_union))\n",
    "estimators.append(('Naive_Bayes', LogisticRegression()))\n",
    "model = Pipeline(estimators)\n",
    "# evaluate pipeline\n",
    "kfold = KFold(n_splits=10, random_state=7, shuffle=True)\n",
    "results = cross_val_score(model, X, Y, cv=kfold)\n",
    "print(results.mean())"
   ]
  },
  {
   "cell_type": "markdown",
   "metadata": {},
   "source": [
    "# ১০.৪ এই অধ্যায়ে আমরা যা যা শিখলাম \n",
    "\n",
    "ডেটা লিকেজ ভালো  মেশিন লার্নিং মডেল তৈরির জন্য বড় বাধা। ডেটা লিকেজ কমাতে scikit learn এর পাইপলাইন ব্যবহার করা হয় । এই অধ্যায়ে আমরা যা যা শিখলাম -- \n",
    "\n",
    "\n",
    "১) কিভাবে পাইপলাইন ব্যবহার করে ডেটা লিকেজ কমানো যায়। \n",
    "\n",
    "২) ডেটা প্রস্তুতি এবং মডেলিং পাইপলাইন কীভাবে তৈরি করবেন।\n",
    "\n",
    "৩) কীভাবে ফিচার এক্সট্রাকশন এবং মডেলিং পাইপলাইন নির্মাণ করবেন।"
   ]
  },
  {
   "cell_type": "markdown",
   "metadata": {},
   "source": [
    "## পরের অধ্যায়ে যা শিখব \n",
    "\n",
    "ইনশাআল্লাহ আমারা পরের অধ্যায়ে আমরা Emsemble এলগরিদম ব্যবহার করে মডেলের এক্যুরিসি বাড়ানো শিখব । "
   ]
  }
 ],
 "metadata": {
  "kernelspec": {
   "display_name": "Python 3",
   "language": "python",
   "name": "python3"
  },
  "language_info": {
   "codemirror_mode": {
    "name": "ipython",
    "version": 3
   },
   "file_extension": ".py",
   "mimetype": "text/x-python",
   "name": "python",
   "nbconvert_exporter": "python",
   "pygments_lexer": "ipython3",
   "version": "3.7.7"
  }
 },
 "nbformat": 4,
 "nbformat_minor": 4
}
