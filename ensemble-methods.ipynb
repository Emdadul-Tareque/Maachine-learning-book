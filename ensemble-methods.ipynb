{
 "cells": [
  {
   "cell_type": "markdown",
   "metadata": {},
   "source": [
    "# অধ্যায় ১১ঃ মডেলের পারফর্মেন্স ভালো করা (Ensemble methods)"
   ]
  },
  {
   "cell_type": "markdown",
   "metadata": {},
   "source": [
    "Ensemble এর মাধ্যমে মডেলের এক্যুরেসি আরো ভালো করা যায়। এই অধ্যায়ে আমরা scikit learn  মাধ্যমে ensemble methods গুলো সম্পর্কে জানব এবং এদের ব্যবহার শিখব। \n",
    "\n",
    "এনসেম্বল লার্নিং হচ্ছে মডেলের পারফরম্যান্স বৃদ্ধি করার একটি কৌশল। একই সমস্যা ভিন্ন ভিন্ন মডেলের ভেতরে দিয়ে পারফরম্যান্স যাচাই করা হয়।"
   ]
  }
 ],
 "metadata": {
  "kernelspec": {
   "display_name": "Python 3",
   "language": "python",
   "name": "python3"
  },
  "language_info": {
   "codemirror_mode": {
    "name": "ipython",
    "version": 3
   },
   "file_extension": ".py",
   "mimetype": "text/x-python",
   "name": "python",
   "nbconvert_exporter": "python",
   "pygments_lexer": "ipython3",
   "version": "3.7.7"
  }
 },
 "nbformat": 4,
 "nbformat_minor": 4
}
