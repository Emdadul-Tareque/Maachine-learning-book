{
 "cells": [
  {
   "cell_type": "markdown",
   "metadata": {},
   "source": [
    "# অধ্যায় ৮ঃ পারফরমেন্স ম্যাট্রিক্স"
   ]
  },
  {
   "cell_type": "markdown",
   "metadata": {},
   "source": [
    "আমাদের মডেল কেমন প্রেডিক্ট করছে, তার প্রেডিকশনের কোন অংশটাকে গুরুত্ব দিয়ে এভ্যালুয়েট করতে হবে তা জানা যাবে মেশিন লার্নিং পারফর্মেন্স ম্যাট্রিক্স থেকে। এই অধ্যায়ে আমরা পারফর্মেনস ম্যাট্রিক্স বের করার কিছু টেকনিক শিখব। \n",
    "\n",
    "এই অধ্যায়ে যা যা শিখব -- \n",
    "\n",
    "১) Classification Metrics\n",
    "\n",
    "     Classification Accuracy.\n",
    "     ROC Curve.\n",
    "     Confusion Matrix.\n",
    "     Classification Report.\n",
    " \n",
    "২) Regression Metrics\n",
    "\n",
    "     Mean Absolute Error.\n",
    "     Mean Squared Error.\n",
    "     R2\n"
   ]
  },
  {
   "cell_type": "markdown",
   "metadata": {},
   "source": [
    "# ৮.১  Classification Metrics"
   ]
  },
  {
   "cell_type": "markdown",
   "metadata": {},
   "source": [
    "মেশিন লার্নিং প্রবলেমের মধ্যে ক্লাসিফিকেশন প্রবলেম হচ্ছে সবচেয়ে কমন প্রবলেম। এই ধরনের প্রবলেম সলভ করার জন্য তৈরি করা মডেলের পারর্ফমেন্স মেজার করার জন্য কিছু টেকনিক রয়েছে তা এই অধ্যায়ে শেখব। ক্লাসিফিকেশন মেট্রিক্সগুলো হচ্ছে -- \n",
    "\n",
    "১) Confusion Matrix.\n",
    "\n",
    "২) Classification Accuracy\n",
    "\n",
    "৩) Classification Report\n",
    "\n",
    "৪) ROC Curve.\n",
    "\n",
    "  \n",
    "  "
   ]
  },
  {
   "cell_type": "markdown",
   "metadata": {},
   "source": [
    "# ৮.১.১  Confusion Matrix\n",
    "কনফিউশন ম্যাট্রিক্স নিজে কোন পারফরম্যান্স মেট্রিক্স নয়। তবে ক্লাসিফিকেশনের জন্য বাকি যতগুলো পাফরম্যান্স মেট্রিক আছে সবগুলো তৈরি হয় এই কনফিউশন মেট্রিক্স থেকে। \n",
    "\n",
    "মনে করি আমাদের একটি মেশিন আছে যে কিনা রোগীর বিভিন্ন তথ্যের উপর ভিত্তি করে প্রডিক্ট করবে রোগীর ক্যন্সার আছে কি না। এমন অবস্থায় চার ধরনের পরিস্থিতি হতে পারে । \n",
    "\n",
    "\n"
   ]
  },
  {
   "cell_type": "markdown",
   "metadata": {},
   "source": [
    "![](metrics.jpg)"
   ]
  },
  {
   "cell_type": "markdown",
   "metadata": {},
   "source": [
    "![](metrics.jpg) "
   ]
  },
  {
   "cell_type": "markdown",
   "metadata": {},
   "source": [
    "![](confusion.png)"
   ]
  },
  {
   "cell_type": "markdown",
   "metadata": {},
   "source": [
    "আরেক্টু ভালোভাবে বুঝার জন্য "
   ]
  },
  {
   "cell_type": "markdown",
   "metadata": {},
   "source": [
    "![](metric.png)"
   ]
  },
  {
   "cell_type": "markdown",
   "metadata": {},
   "source": [
    "একেই কনফিউশন ম্যাট্রিক্স বলে। এখানে আমরা নতুন চারটা টার্ম ব্যবহার করেছি । তাদের সম্পর্কে বর্ণনা করা যাক-- \n",
    "\n",
    "১) True positive: যখন এলগরিদম কোন কিছুকে সত্যি বলে প্রেডিক্ট করে এবং সেটি আসলেই সত্যি হয়, তখন তাকে true positve বলে। যেমন আমাদের এই ক্ষেত্রে মেশিন যদি বলে রোগীর ক্যন্সার হয়েছে এবং যদি রোগীর আসলেই ক্যন্সার থাকে তখন তাকে বলা হবে True positive.\n",
    "\n",
    "২) False Positive: যখন এলগরিদম কোন কিছুকে সত্যি বলে প্রেডিক্ট করে কিন্তু  সেটি আসলে মিথ্যা হয়, তখন তাকে False positve বলে।যেমন আমাদের এই ক্ষেত্রে মেশিন যদি বলে রোগীর ক্যন্সার হয়েছে এবং যদি রোগীর আসলে ক্যন্সার না থাকে তখন তাকে বলা হবে False positive. \n",
    "\n",
    "৩) False Negative: যখন এলগরিদম কোন কিছুকে মিথ্যা বলে প্রেডিক্ট করে কিন্তু  সেটি আসলে সত্যি হয়, তখন তাকে False Negative বলে।যেমন আমাদের এই ক্ষেত্রে মেশিন যদি বলে রোগীর ক্যন্সার নেই এবং যদি রোগীর আসলে ক্যন্সার  থাকে তখন তাকে বলা হবে False Negative. \n",
    "\n",
    "৪) True Negative: যখন এলগরিদম কোন কিছুকে মিথ্যা বলে প্রেডিক্ট করে এবং  সেটি আসলে মিথ্যা হয়, তখন তাকে True Negative বলে।যেমন আমাদের এই ক্ষেত্রে মেশিন যদি বলে রোগীর ক্যন্সার নেই এবং যদি রোগীর আসলে ক্যন্সার না থাকে তখন তাকে বলা হবে True Negative.\n",
    "\n",
    "এখান থেকে আমরা বুঝতে পারছি ফলস পজেটিভ এবং ফলস নেগেটিভ আমাদের মোটেও কাম্য নয়। আমাদের প্রবলেমের ধরনের উপর ভিত্তি করে আমাদের ঠিক করতে হবে যে আমরা ফলস পজিটিভ কমাবো, নাকি ফলস নেগেটিব কমাবো, নাকি দুটোই কমাব। \n",
    "\n",
    "যেমন, আমাদের আগের উদাহরণ থেকে যদি বলি, ফলস পজেটিভ নাবে রোগীটির ক্যান্সার নেই, মেশিন ভুল করে বলেছে তার ক্যন্সার আছে। এর ফলে তাকে ক্যন্সার না থাকা সত্ত্বেও তাকে ক্যান্সারের চিকিৎসা করানো হবে। এটি অব্যশই খারাপ এবং ক্ষতিকর। \n",
    "কিন্তু যদি আমরা ফলস নেগেটিভ পাই, তাহলে রোগীর ক্যন্সার আছে কিন্তু মেশিন বলেছে ক্যন্সার নাই। এমন অবস্থায় রোগীটি কিছুদিন ক্যন্সারে ভুগে মারা যাবে। \n",
    "\n",
    "তাহলে এই দুই পরিস্থিতি থেকে বুঝা যাচ্ছে ফলস পজেটিভ আসলে যতটুকু ক্ষতি হবে তার থেকে বেশি ক্ষতি হবে ফসল নেগেটিভ আসলে। এই ক্ষেত্রে "
   ]
  },
  {
   "cell_type": "markdown",
   "metadata": {},
   "source": [
    "এতক্ষণ আমরা কনফিউশন ম্যাট্রিক্স নিয়ে বিস্তারিত আলোচনা করলাম। এখন আমরা pima indian diabetes এর কনফিউশন ম্যাট্রিক্স বের করব। "
   ]
  },
  {
   "cell_type": "code",
   "execution_count": 5,
   "metadata": {},
   "outputs": [
    {
     "name": "stdout",
     "output_type": "stream",
     "text": [
      "[[127  20]\n",
      " [ 37  47]]\n"
     ]
    },
    {
     "name": "stderr",
     "output_type": "stream",
     "text": [
      "/Users/user/opt/anaconda3/lib/python3.7/site-packages/sklearn/linear_model/_logistic.py:940: ConvergenceWarning: lbfgs failed to converge (status=1):\n",
      "STOP: TOTAL NO. of ITERATIONS REACHED LIMIT.\n",
      "\n",
      "Increase the number of iterations (max_iter) or scale the data as shown in:\n",
      "    https://scikit-learn.org/stable/modules/preprocessing.html\n",
      "Please also refer to the documentation for alternative solver options:\n",
      "    https://scikit-learn.org/stable/modules/linear_model.html#logistic-regression\n",
      "  extra_warning_msg=_LOGISTIC_SOLVER_CONVERGENCE_MSG)\n"
     ]
    }
   ],
   "source": [
    "import pandas as pd\n",
    "from sklearn.linear_model import LogisticRegression\n",
    "from sklearn.metrics import confusion_matrix\n",
    "from sklearn.model_selection import train_test_split\n",
    "#import dataset\n",
    "dataset = pd.read_csv('diabetes.csv')\n",
    "array = dataset.values\n",
    "X = array[:, 0:8]\n",
    "Y = array[:, 8]\n",
    "# train test split\n",
    "X_train, X_test, Y_train, Y_test = train_test_split(X, Y, test_size=0.3, random_state=7)\n",
    "#machine learning model\n",
    "model = LogisticRegression()\n",
    "model.fit(X_train, Y_train)\n",
    "predict = model.predict(X_test)\n",
    "matrix = confusion_matrix(Y_test, predict)\n",
    "print(matrix)\n"
   ]
  },
  {
   "cell_type": "markdown",
   "metadata": {},
   "source": [
    "# ৮.১.২ Classification Accuracy"
   ]
  },
  {
   "cell_type": "markdown",
   "metadata": {},
   "source": [
    "Classification Accuracy হচ্ছে মূলত আমাদের মডেলটি সবগুলো প্রেডিকশনের সাথে কতগুলো  সঠিক প্রেডিকশন দিতে পারল তার অনুপাত। অর্থাৎ আমাদের এখানে ট্রু পজেটিভ এবং ট্রু নেগেটিভ নিয়ে কাজ। \n"
   ]
  },
  {
   "cell_type": "markdown",
   "metadata": {},
   "source": [
    "![](accuracy.png)"
   ]
  },
  {
   "cell_type": "raw",
   "metadata": {},
   "source": [
    "অর্থাৎ আমাদের ট্রু পজেটিভ এবং ট্রু নেগেটিভ যত বেশি হবে আমাদের মডেলের এক্যুরেসি তত বেশি হবে। \n",
    "আমাদের ডেটাসেটের টার্গেট ভ্যারিয়েবল মোটামুটি ভ্যালেন্স হলে পারফর্মেন্স মেজার করার জন্য এই পদ্বতি ঠিক আছে। কিন্তু যদি ডেটাসেটের টার্গেট ভ্যারিয়েবল ব্যালেন্স না থাকে তাহলে এই পদ্বতি ব্যবহার করা ঠিক হবে না। \n",
    "যেমন মনে করি আমাদের ডেটাসেটে ক্যনাসার রোগীর পরিমাণ ৫% বাকি ৯৫% হচ্ছে ক্যান্সার রোগী না। এখানে আমাদের ডেটাসেটের টার্গেট ভ্যারিয়েবল ব্যালেন্স নয়। এক্ষেত্রে যদি আমার মডেলটি সবাইকে ক্যান্সার রোগী না বলে প্রেডিক্ট করে তাহলে আমার মডেলের এক্যুরেসি আসবে 95% । দেখে মনে হতে পারে আমার মডেলটি ভালো কাজ করছে আসলে কিন্তু না। কারন আমার মডেলটি একটি ক্যনাসার রোগীকে সনাক্ত করতে পারেনি। সুতারং ইমব্যালেন্স ডেটাসেটে ক্ষেত্রে এই টেকনিকটি ব্যবহার করা উচিত হবে না।  "
   ]
  },
  {
   "cell_type": "markdown",
   "metadata": {},
   "source": [
    "# ৮.১.৩ Classification Report\n",
    "মডেলের এক্যুরেসি সম্পর্কে ধারনা পাওয়ার জন্য sklearn এ Report দেখা যায়। এই রিপোর্টে থাকে  precision, recall, F1-score এবং সাপোর্ট  support। \n",
    "skelarn  এ classification report() ফাংশন ব্যবহার করে এই রিপোর্ট দেখা যায়। "
   ]
  },
  {
   "cell_type": "code",
   "execution_count": 11,
   "metadata": {},
   "outputs": [
    {
     "name": "stdout",
     "output_type": "stream",
     "text": [
      "              precision    recall  f1-score   support\n",
      "\n",
      "         0.0       0.75      0.77      0.76       147\n",
      "         1.0       0.57      0.55      0.56        84\n",
      "\n",
      "    accuracy                           0.69       231\n",
      "   macro avg       0.66      0.66      0.66       231\n",
      "weighted avg       0.69      0.69      0.69       231\n",
      "\n"
     ]
    }
   ],
   "source": [
    "from sklearn.metrics import classification_report\n",
    "from sklearn.neighbors import KNeighborsClassifier\n",
    "\n",
    "model = KNeighborsClassifier()\n",
    "model.fit(X_train, Y_train)\n",
    "predict = model.predict(X_test)\n",
    "report = classification_report(Y_test, predict)\n",
    "print(report)"
   ]
  },
  {
   "cell_type": "markdown",
   "metadata": {},
   "source": [
    "আমরা এখন precision    recall  f1-score সম্পর্কে বিস্তারিত জানব। "
   ]
  },
  {
   "cell_type": "markdown",
   "metadata": {},
   "source": [
    "##  precision "
   ]
  },
  {
   "cell_type": "markdown",
   "metadata": {},
   "source": [
    "precision হচ্ছে আমাদের মডেলটি যে কয়টি হ্যাঁ বলেছে তার মধ্যে কয়টি সঠিক প্রেডিকশন করেছে তার একটি অনুপাত । অর্থাৎ precision কাজ করবে ফলস পজেটিভ ও ট্রু পজেটিভ নিয়ে। \n"
   ]
  },
  {
   "cell_type": "markdown",
   "metadata": {},
   "source": [
    "![](precision.png)"
   ]
  },
  {
   "cell_type": "markdown",
   "metadata": {},
   "source": [
    "আমরা যদি ক্যান্সারের উদাহরণ দিয়ে বুঝি তাহলে precision হচ্ছে  যে মডেলটি কতজন সত্যিকারের ক্যন্সার রোগী শনাক্ত করতে পেরেছে ।  মনে করি আমাদের ডেটা সেটে মোট ১০ জন হচ্ছে ক্যান্সার রোগী এবং ৯০ জন হচ্ছে ক্যান্সার রোগী না। আমাদের মডেলটি মোট ক্যান্সার রোগী বলেছে ৮ জনকে। এর মধ্যে ৫ জনের আসলেই ক্যান্সার আছে (True positive) বাকি ৩ জনের ক্যান্সার নেই(False positive) । এক্ষত্রে প্রিসিশন হচ্ছে \n",
    "\n",
    "precison = ৫ / (৫ + ৩) = ০.৬২৫ = ৬২.৫%\n",
    "\n",
    "অর্থাৎ আমাদের মডেলটি ৬২.৫% সঠিক উত্তর দিয়েছে। "
   ]
  },
  {
   "cell_type": "markdown",
   "metadata": {},
   "source": [
    "## Recall"
   ]
  },
  {
   "cell_type": "markdown",
   "metadata": {},
   "source": [
    "Recall হচ্ছে পুরো ডেটাসেটে যে কয়টি হ্যাঁ রয়েছে আমার মডেলটি যে কয়টি সঠিক হ্যাঁ প্রেডিক্ট করতে পরেছে তার অনুপাত। অর্থাৎ recall কাজ করবে true positive ও false negative নিয়ে। "
   ]
  },
  {
   "cell_type": "markdown",
   "metadata": {},
   "source": [
    "![](recall.png)"
   ]
  },
  {
   "cell_type": "markdown",
   "metadata": {},
   "source": [
    "আমরা যদি ক্যান্সারের উদাহরণ হয়ে বুঝার চেষ্টা করি তাহলে recall হচ্ছে মডেলটি মোট ক্যান্সার রোগীর কয়জনকে সঠিকভাবে প্রেডিক্ট করতে পেরেছে তা বুঝায়। \n",
    "যেমন মনে করি আমাদের ডেটেসেটে মোট ক্যান্সার রোগী আছে ৫ জন । এর মধ্যে আমাদের মডেল প্রেডিক্ট করেছে যার যে সঠিকভাবে ক্যান্সার রোগী প্রেডিক্ট করতে পরেছে ৩ জনকে (True positive) ২ জনকে সে ক্যান্সার রোগী না  হিসেবে প্রেডিক্ট করেছে (false negative) । এক্ষেত্রে recall হচ্ছে -- \n",
    "recall = ৩/(৩+২) = ০.৬ = ৬০% \n",
    "অর্থাৎ আমাদের মডেলটি সঠিক ক্যান্সার রোগী শনাক্ত করতে পেরেছে ৬০% । বাকী ৪০% রোগীকে সঠিক ভাবে প্রেডিক্ট করতে পারে নি। \n",
    "\n"
   ]
  },
  {
   "cell_type": "markdown",
   "metadata": {},
   "source": [
    "Recall বাড়ানোর সময় খেয়াল রাখতে হবে অর্থাৎ আমাদের যাতে কোন ক্যান্সার রোগী বাদ না পড়ে সেটই নিশ্চিত করার জন্য আমরা কি করব? যত বেশি সম্ভব মানুষের ক্যান্সার রোগী হিসেবে প্রেডিক্ট করানোর চেষ্টা করব। যত বেশি মানুষ ক্যান্সার হিসেবে প্রেডিক্ট করবে তত ক্যান্সার হওয়া রোগীর সংখ্যা বাদ পড়ার সম্ভাবনা কমতে থাকবে। কিন্তু সেই সাথে কিন্তু ক্যান্সার আক্রান্ত নয় এমন কাউকে সে রোগী হিসেবে প্রেডিক্ট করবে এতে করে ফলস পজেটিভ বেড়ে যাবে অর্থাৎ প্রিসিশন কমে যাবে। তাই recall বাড়ানোর সময় খেয়াল রাখতে হবে প্রিসিশন জেনো খুব বেশি কমে না যায় অর্থাৎ অনেক বেশি ফলস পজেটিভ বেড়ে না যায়। \n",
    "\n",
    "আবার একই ভাবে প্রিসিশন বাড়াতে গিয়ে অর্থাৎ ফলস পজেটিভ কামতে গিয়ে খেয়াল রাখতে হবে recall জেনো অনেক বেশি কমে না যায়। \n",
    "\n",
    "এই ছিলো recall এবং precision নিয়ে বিস্তারিত আলোচনা। "
   ]
  },
  {
   "cell_type": "markdown",
   "metadata": {},
   "source": [
    "# ৮.১.৪ ROC Curve"
   ]
  },
  {
   "cell_type": "code",
   "execution_count": null,
   "metadata": {},
   "outputs": [],
   "source": []
  },
  {
   "cell_type": "markdown",
   "metadata": {},
   "source": [
    "# ৮.২  Regression Metrics\n",
    "\n",
    "রিগ্রেশন প্রবলেমের জন্য তৈরি করা মডেলের পারফর্মেন্স সম্পর্কে জানার জন্য এখানে ৩টি টেকনিক সম্পর্কে জানব \n",
    "\n",
    "     Mean Absolute Error.\n",
    "     Mean Squared Error.\n",
    "     R2"
   ]
  },
  {
   "cell_type": "markdown",
   "metadata": {},
   "source": [
    "## ৮.২.১ Mean Absolute Error\n",
    "\n",
    "Mean Absolute Error হচ্ছে প্রেডিকশন এবং সত্যিকারের মানের মধ্যকার পার্থক্যের যোগফল। এর মাধ্যমে আমাদের মডেলের এরর সম্পর্কে জানতে পারি কিন্তু ডাইরেকশন অর্থাৎ আমাদের প্রডিকশন কি সত্যিকারের ভ্যালুর উপরে না নিচে অবস্থান করছে তা জানতে পারি না। \n",
    "Mean Absolute Error বের করার সূত্র হচ্ছে \n",
    "![](MAE.png)\n",
    "এখানে  আমরা boston house price dataset এর Mean Absolute Error বের করব। \n"
   ]
  },
  {
   "cell_type": "code",
   "execution_count": 15,
   "metadata": {},
   "outputs": [
    {
     "name": "stdout",
     "output_type": "stream",
     "text": [
      "MAE: -3.387 (0.667)\n"
     ]
    }
   ],
   "source": [
    "#import library\n",
    "from sklearn import datasets\n",
    "from sklearn.model_selection import KFold\n",
    "from sklearn.model_selection import cross_val_score\n",
    "from sklearn.linear_model import LinearRegression\n",
    "#load dataset\n",
    "boston = datasets.load_boston()\n",
    "X = boston.data\n",
    "Y = boston.target\n",
    "kfold = KFold(n_splits=10, random_state=7, shuffle=True)\n",
    "model = LinearRegression()\n",
    "scoring = 'neg_mean_absolute_error'\n",
    "results = cross_val_score(model, X, Y, cv=kfold, scoring=scoring)\n",
    "print(\"MAE: %.3f (%.3f)\" % (results.mean(), results.std()))\n",
    "\n"
   ]
  },
  {
   "cell_type": "markdown",
   "metadata": {},
   "source": [
    "MAE মান যদি 0 হয় তার মানে মডেলের কোন এরর নেই। "
   ]
  },
  {
   "cell_type": "markdown",
   "metadata": {},
   "source": [
    "## ৮.২.২ Mean Squared Error\n",
    "\n",
    "Mean Squared Error অনেকটা mean absolute error এর মতই। Mean Squared Error এর উপর squrare root দিয়ে যে ভ্যালু বের করা হয় তাকে Root Mean Squared Error ( RMSE) বলা হয় । RMSE এর  মাধ্যমে error এর সঠিক ধারনা পাওয়া যায়। \n",
    "\n",
    "RMSE নির্নয়ের সূত্র হচ্ছে \n",
    "![](RMSE.png)\n",
    "\n",
    "এখানে  আমরা boston house price dataset এর MSE বের করব।"
   ]
  },
  {
   "cell_type": "code",
   "execution_count": 16,
   "metadata": {},
   "outputs": [
    {
     "name": "stdout",
     "output_type": "stream",
     "text": [
      "MSE: -23.747 (11.143)\n"
     ]
    }
   ],
   "source": [
    "\n",
    "\n",
    "kfold = KFold(n_splits=10, random_state=7, shuffle=True)\n",
    "model = LinearRegression()\n",
    "scoring = 'neg_mean_squared_error'\n",
    "results = cross_val_score(model, X, Y, cv=kfold, scoring=scoring)\n",
    "print(\"MSE: %.3f (%.3f)\" % (results.mean(), results.std()))"
   ]
  },
  {
   "cell_type": "markdown",
   "metadata": {},
   "source": [
    "## ৮.২.৩ R2 Metrics\n",
    "\n",
    "R2 Metrics ব্যবহার করা হয় আমাদের রিগ্রেশন মডেলটি কত ভালো কাজ করছে তা জানার জন্য। R2 value এর মান যত বেশি মডেল তত ভালো কাজ করছে বা ভালো ফিট করছে। \n",
    "\n",
    "এখানে আমরা boston house price dataset এর R2 Metrics  বের করব"
   ]
  },
  {
   "cell_type": "code",
   "execution_count": 13,
   "metadata": {},
   "outputs": [
    {
     "name": "stdout",
     "output_type": "stream",
     "text": [
      "R^2: 0.718 (0.099)\n"
     ]
    }
   ],
   "source": [
    "kfold = KFold(n_splits=10, random_state=7, shuffle=True)\n",
    "model = LinearRegression()\n",
    "scoring = 'r2'\n",
    "results = cross_val_score(model, X, Y, cv=kfold, scoring=scoring)\n",
    "print(\"R^2: %.3f (%.3f)\" % (results.mean(), results.std()))"
   ]
  },
  {
   "cell_type": "markdown",
   "metadata": {},
   "source": [
    "R^2 এর মান 1 এর যত কাছাকাছি হবে বোঝা যাবে  আমাদের মডেল ততভালো কাজ করছে। "
   ]
  },
  {
   "cell_type": "markdown",
   "metadata": {},
   "source": [
    "# ৮.৩ এই অধ্যায়ে যা যা শিখলাম \n",
    "\n",
    "এই অধ্যায়ে আমাদের মডেল কেমন কাজ করছে তা বের করা শিখলাম। যাতে করে আমরা মডেল ইভ্যালুয়েশন করতে পারি। \n",
    "\n",
    "এই অধ্যায়ে যা যা শিখলাম  --\n",
    "\n",
    "১) Classification Metrics\n",
    "\n",
    "     Classification Accuracy.\n",
    "     ROC Curve.\n",
    "     Confusion Matrix.\n",
    "     Classification Report.\n",
    " \n",
    "২) Regression Metrics\n",
    "\n",
    "     Mean Absolute Error.\n",
    "     Mean Squared Error.\n",
    "     R2\n",
    "\n"
   ]
  },
  {
   "cell_type": "markdown",
   "metadata": {},
   "source": [
    "# পরের অধ্যায়ে যা শিখব \n",
    " \n",
    " পরের অধ্যায়ে আমরা spot-check algorithm করব অর্থাৎ কোন এলগরিদম ভালো কাজ করছে তা জানব। এবং সবচেয়ে ভালো কাজ করছে যে এলগরিদমটি তা সিলেক্ট করে। পরবর্তি কাজ করব। ইনশাআল্লাহ  "
   ]
  }
 ],
 "metadata": {
  "kernelspec": {
   "display_name": "Python 3",
   "language": "python",
   "name": "python3"
  },
  "language_info": {
   "codemirror_mode": {
    "name": "ipython",
    "version": 3
   },
   "file_extension": ".py",
   "mimetype": "text/x-python",
   "name": "python",
   "nbconvert_exporter": "python",
   "pygments_lexer": "ipython3",
   "version": "3.7.7"
  }
 },
 "nbformat": 4,
 "nbformat_minor": 4
}
