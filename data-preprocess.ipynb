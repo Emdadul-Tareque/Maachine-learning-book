{
 "cells": [
  {
   "cell_type": "markdown",
   "metadata": {},
   "source": [
    "# অধ্যায় ৫ঃ ডেটা প্রিপ্রসেসিং\n",
    "\n",
    "মেশিন লার্নিং অ্যালগরিদম গুলো ডাটা থেকে শিখে। তাই ডাটা কেমন ভাবে তৈরি করতে হয় যেন মেশিন মেশিন কাটা থেকে খুব ভালোভাবে শিখতে পারে। অধ্যায়ে আমরা জানব কিভাবে মেশিন লার্নিং অ্যালগরিদম জন্য ডাটা প্রস্তুত করতে হয়। এই অধ্যায়ে আমরা যা যা শিখব\n",
    "\n",
    "১) Rescale data/Normalize data\n",
    "\n",
    "২) Standardize data\n",
    "\n",
    "৩) Binarize data"
   ]
  },
  {
   "cell_type": "markdown",
   "metadata": {},
   "source": [
    "## ৫.১  Rescale data/Normalize data\n",
    "\n",
    "যখন আমাদের ডাটা সেটে  বিভিন্ন স্কেলের ডাটা থাকে তখন ডাটা সেটটিকে   রিস্কেল  করতে হয় ।  রিস্কেল  করা মানে ডাটা সেটের ডেটাগুলোকে একটি নির্দিষ্ট স্কেলের (0 থেকে ১ ) মধ্যে আনা।  যখন আমাদের ফিচারের ডিস্ট্রিবিউশন গসিয়ান(নরমাল) ডিস্ট্রিবিউশন থাকে না তখন ডেটাকে নরমালাইজ করতে হয়।  এটি অপটিমাইজেশন অ্যালগোরিদমের জন্য খুবই ভালভাবে কাজ করে যেমন গ্রেডিয়েন্ট ডিসেন্ট আলগরিদম।  এছাড়াও নিউরাল নেটওয়ার্ক এবং  k-nearest neighbors এলগোরিদমের জন্য ভালো ভাবে কাজ করে।  আমরা Scikit-learn এর MinMaxScaler  ক্লাস ব্যবহার করে ডেটাকে রিস্কেল করতে পারি।"
   ]
  },
  {
   "cell_type": "code",
   "execution_count": 2,
   "metadata": {},
   "outputs": [
    {
     "name": "stdout",
     "output_type": "stream",
     "text": [
      "[[0.353 0.744 0.59  0.354 0.    0.501 0.234 0.483]\n",
      " [0.059 0.427 0.541 0.293 0.    0.396 0.117 0.167]\n",
      " [0.471 0.92  0.525 0.    0.    0.347 0.254 0.183]\n",
      " [0.059 0.447 0.541 0.232 0.111 0.419 0.038 0.   ]\n",
      " [0.    0.688 0.328 0.354 0.199 0.642 0.944 0.2  ]]\n"
     ]
    }
   ],
   "source": [
    "# Import libraries\n",
    "import pandas as pd\n",
    "import numpy as np\n",
    "from numpy import set_printoptions\n",
    "from sklearn.preprocessing import MinMaxScaler\n",
    "\n",
    "# load dataset\n",
    "dataset = pd.read_csv('diabetes.csv')\n",
    "array = dataset.values\n",
    "# separate array into input and output components\n",
    "X = array[:,0:8]\n",
    "Y = array[:,8]\n",
    "scaler = MinMaxScaler(feature_range=(0, 1))\n",
    "rescaledX = scaler.fit_transform(X)\n",
    "# summarize transformed data\n",
    "set_printoptions(precision=3)\n",
    "print(rescaledX[0:5,:])"
   ]
  },
  {
   "cell_type": "markdown",
   "metadata": {},
   "source": [
    "## ৫.২ Standardize Data"
   ]
  },
  {
   "cell_type": "markdown",
   "metadata": {},
   "source": [
    "ডেটাকে Standardize করা মানে হচ্ছে ডেটাগুলোকেগুলোকে এমনভাবে স্কেলিং করতে হবে যে তাদের মিন 0 এবং std 1 হয়। ডেটা Standardize তখন ভালোভাবে কাজ করে যখন ডেটার ডিস্ট্রিবিউশন গসিয়ান ডিস্ট্রিবিউশন হয়। যদি ডেটার গসিয়ান ডিস্ট্রিবিউশন\n",
    "না হয় তাহলে  ডেটাকে আগে নরমাইলাইজ করে (৫.১ এ আলোচনা করা হয়েছে ) তারপর standardize করতে হবে। গসিয়ান ডিস্ট্রিবিউশন/ডেটা নরমাইলাইজ করা ডেটার সাথে ডেটা Standardize করা থাকলে কিছু মেশিন লার্নিং এলগরিদম (linear regression,logistic regression and linear discriminate analysis) খুব ভালোভাবে কাজ করে। \n",
    "\n",
    "আমরা Scikit-learn এর StandardScaler  ক্লাস ব্যবহার করে ডেটাকে Standardize করতে পারি। "
   ]
  },
  {
   "cell_type": "code",
   "execution_count": 3,
   "metadata": {},
   "outputs": [
    {
     "name": "stdout",
     "output_type": "stream",
     "text": [
      "[[ 0.64   0.848  0.15   0.907 -0.693  0.204  0.468  1.426]\n",
      " [-0.845 -1.123 -0.161  0.531 -0.693 -0.684 -0.365 -0.191]\n",
      " [ 1.234  1.944 -0.264 -1.288 -0.693 -1.103  0.604 -0.106]\n",
      " [-0.845 -0.998 -0.161  0.155  0.123 -0.494 -0.921 -1.042]\n",
      " [-1.142  0.504 -1.505  0.907  0.766  1.41   5.485 -0.02 ]]\n"
     ]
    }
   ],
   "source": [
    "# Standardize data (0 mean, 1 stdev)\n",
    "from sklearn.preprocessing import StandardScaler\n",
    "from numpy import set_printoptions\n",
    "array = dataset.values\n",
    "# separate array into input and output components\n",
    "X = array[:,0:8]\n",
    "Y = array[:,8]\n",
    "scaler = StandardScaler().fit(X)\n",
    "rescaledX = scaler.transform(X)\n",
    "# summarize transformed data\n",
    "set_printoptions(precision=3)\n",
    "print(rescaledX[0:5,:])"
   ]
  },
  {
   "cell_type": "markdown",
   "metadata": {},
   "source": [
    "## ৫.৩ Binarize data"
   ]
  },
  {
   "cell_type": "code",
   "execution_count": 5,
   "metadata": {},
   "outputs": [
    {
     "name": "stdout",
     "output_type": "stream",
     "text": [
      "[[1. 1. 1. 1. 0. 1. 1. 1.]\n",
      " [1. 1. 1. 1. 0. 1. 1. 1.]\n",
      " [1. 1. 1. 0. 0. 1. 1. 1.]\n",
      " [1. 1. 1. 1. 1. 1. 1. 1.]\n",
      " [0. 1. 1. 1. 1. 1. 1. 1.]]\n"
     ]
    }
   ],
   "source": [
    "from sklearn.preprocessing import Binarizer\n",
    "array = dataset.values\n",
    "# separate array into input and output components\n",
    "X = array[:,0:8]\n",
    "Y = array[:,8]\n",
    "binarizer = Binarizer(threshold=0.0).fit(X)\n",
    "binaryX = binarizer.transform(X)\n",
    "# summarize transformed data\n",
    "set_printoptions(precision=3)\n",
    "print(binaryX[0:5,:])"
   ]
  },
  {
   "cell_type": "markdown",
   "metadata": {},
   "source": [
    "# ৫.৪ এই অধ্যায়ে যা যা শিখলাম "
   ]
  },
  {
   "cell_type": "markdown",
   "metadata": {},
   "source": [
    "এই অধ্যায়ে আমরা মেশিন লার্নিং এলগরিদমের জন্য ডেটাকে কয়েকটা টেকনিকে তৈরি করা দেখলাম। তবে আরো কিছু টেকনিক ব্যবহার  করে ডেটাকে প্রিপ্রসেস করা যায় তা আমরা সামনে শিখব । \n",
    "এই অধ্যায় যে যে টেকনিকগুলো শিখেছি -- \n",
    "১) Rescale data/Normalize data\n",
    "\n",
    "২) Standardize data\n",
    "\n",
    "৩) Binarize data"
   ]
  },
  {
   "cell_type": "markdown",
   "metadata": {},
   "source": [
    "# ৫.৫ পরের অধ্যায়ে যা শিখব "
   ]
  },
  {
   "cell_type": "markdown",
   "metadata": {},
   "source": [
    "ডেটাকে মেশিন লার্নিং এলগোরিদমের জন্য কিভাবে প্রস্তুত করতে হয়  তা আমরা পারি। সামনের অধ্যায়ে কোন  ফিচারগুলো দরকারি ঐ ফিচারগুলো সিলেক্ট করা শিখব ইনশাআল্লাহ । "
   ]
  }
 ],
 "metadata": {
  "kernelspec": {
   "display_name": "Python 3",
   "language": "python",
   "name": "python3"
  },
  "language_info": {
   "codemirror_mode": {
    "name": "ipython",
    "version": 3
   },
   "file_extension": ".py",
   "mimetype": "text/x-python",
   "name": "python",
   "nbconvert_exporter": "python",
   "pygments_lexer": "ipython3",
   "version": "3.7.7"
  }
 },
 "nbformat": 4,
 "nbformat_minor": 4
}
